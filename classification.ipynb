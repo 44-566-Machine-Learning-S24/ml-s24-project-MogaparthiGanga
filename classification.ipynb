{
 "cells": [
  {
   "cell_type": "markdown",
   "id": "68274a55-c299-4259-b1a7-23bf19b13566",
   "metadata": {},
   "source": [
    "#### Initial data prep section.  Read, clean and create sets.\n"
   ]
  },
  {
   "cell_type": "code",
   "execution_count": 52,
   "id": "662d8a48-1166-42dd-9eb8-2bfade98d4f8",
   "metadata": {},
   "outputs": [
    {
     "name": "stdout",
     "output_type": "stream",
     "text": [
      "<class 'pandas.core.frame.DataFrame'>\n",
      "RangeIndex: 3322 entries, 0 to 3321\n",
      "Data columns (total 15 columns):\n",
      " #   Column              Non-Null Count  Dtype  \n",
      "---  ------              --------------  -----  \n",
      " 0   Date                3322 non-null   object \n",
      " 1   Symbol              3322 non-null   object \n",
      " 2   Series              3322 non-null   object \n",
      " 3   Prev Close          3322 non-null   float64\n",
      " 4   Open                3322 non-null   float64\n",
      " 5   High                3322 non-null   float64\n",
      " 6   Low                 3322 non-null   float64\n",
      " 7   Last                3322 non-null   float64\n",
      " 8   Close               3322 non-null   float64\n",
      " 9   VWAP                3322 non-null   float64\n",
      " 10  Volume              3322 non-null   int64  \n",
      " 11  Turnover            3322 non-null   float64\n",
      " 12  Trades              2456 non-null   float64\n",
      " 13  Deliverable Volume  3322 non-null   int64  \n",
      " 14  %Deliverble         3322 non-null   float64\n",
      "dtypes: float64(10), int64(2), object(3)\n",
      "memory usage: 389.4+ KB\n",
      "None\n",
      "<class 'pandas.core.frame.DataFrame'>\n",
      "Index: 2456 entries, 866 to 3321\n",
      "Data columns (total 15 columns):\n",
      " #   Column              Non-Null Count  Dtype  \n",
      "---  ------              --------------  -----  \n",
      " 0   Date                2456 non-null   object \n",
      " 1   Symbol              2456 non-null   object \n",
      " 2   Series              2456 non-null   object \n",
      " 3   Prev Close          2456 non-null   float64\n",
      " 4   Open                2456 non-null   float64\n",
      " 5   High                2456 non-null   float64\n",
      " 6   Low                 2456 non-null   float64\n",
      " 7   Last                2456 non-null   float64\n",
      " 8   Close               2456 non-null   float64\n",
      " 9   VWAP                2456 non-null   float64\n",
      " 10  Volume              2456 non-null   int64  \n",
      " 11  Turnover            2456 non-null   float64\n",
      " 12  Trades              2456 non-null   float64\n",
      " 13  Deliverable Volume  2456 non-null   int64  \n",
      " 14  %Deliverble         2456 non-null   float64\n",
      "dtypes: float64(10), int64(2), object(3)\n",
      "memory usage: 307.0+ KB\n",
      "None\n",
      "1842 614\n",
      "            Date      Symbol Series  Prev Close    Open    High     Low  \\\n",
      "2822  2019-04-24  ADANIPORTS     EQ      390.90  387.70  394.00  386.10   \n",
      "2543  2018-03-07  ADANIPORTS     EQ      405.25  398.95  398.95  372.25   \n",
      "\n",
      "       Last   Close    VWAP   Volume      Turnover    Trades  \\\n",
      "2822  392.0  391.75  389.54  1674322  6.522230e+13   40292.0   \n",
      "2543  379.1  376.95  385.83  6951930  2.682249e+14  107220.0   \n",
      "\n",
      "      Deliverable Volume  %Deliverble  \n",
      "2822              881911       0.5267  \n",
      "2543             2806167       0.4037  \n",
      "            Date      Symbol Series  Prev Close    Open    High     Low  \\\n",
      "2131  2016-07-08  ADANIPORTS     EQ      210.05  210.05  211.95  204.60   \n",
      "2268  2017-01-25  ADANIPORTS     EQ      293.15  295.25  306.10  294.45   \n",
      "\n",
      "        Last   Close    VWAP   Volume      Turnover   Trades  \\\n",
      "2131  207.25  207.05  207.20  2451302  5.079123e+13  38590.0   \n",
      "2268  304.50  304.65  300.86  4477090  1.346982e+14  49029.0   \n",
      "\n",
      "      Deliverable Volume  %Deliverble  \n",
      "2131              903203       0.3685  \n",
      "2268             1826751       0.4080  \n"
     ]
    }
   ],
   "source": [
    "import pandas as pd\n",
    "file_path = 'ADANIPORTS.csv'\n",
    "df = pd.read_csv(file_path)\n",
    "print(df.info())\n",
    "# df.isnull().sum()\n",
    "df.dropna(axis='index', how='all', subset=[\"Trades\"], inplace=True)\n",
    "print(df.info())\n",
    "\n",
    "from sklearn.model_selection import train_test_split\n",
    "train_set, test_set = train_test_split(df, test_size=0.25, random_state=1)\n",
    "print(len(train_set), len(test_set))\n",
    "print(train_set.head(2))\n",
    "print(test_set.head(2))"
   ]
  },
  {
   "cell_type": "code",
   "execution_count": null,
   "id": "0be0bb3b-953b-48e4-947f-b96515ad5199",
   "metadata": {},
   "outputs": [],
   "source": []
  }
 ],
 "metadata": {
  "kernelspec": {
   "display_name": "Python 3 (ipykernel)",
   "language": "python",
   "name": "python3"
  },
  "language_info": {
   "codemirror_mode": {
    "name": "ipython",
    "version": 3
   },
   "file_extension": ".py",
   "mimetype": "text/x-python",
   "name": "python",
   "nbconvert_exporter": "python",
   "pygments_lexer": "ipython3",
   "version": "3.11.0"
  }
 },
 "nbformat": 4,
 "nbformat_minor": 5
}
