{
 "cells": [
  {
   "cell_type": "code",
   "execution_count": 1,
   "id": "c7ab5d60-da30-4c6f-b282-c7b1261bdb8c",
   "metadata": {},
   "outputs": [
    {
     "name": "stderr",
     "output_type": "stream",
     "text": [
      "C:\\Users\\S559487\\AppData\\Local\\Temp\\ipykernel_25024\\4080736814.py:1: DeprecationWarning: \n",
      "Pyarrow will become a required dependency of pandas in the next major release of pandas (pandas 3.0),\n",
      "(to allow more performant data types, such as the Arrow string type, and better interoperability with other libraries)\n",
      "but was not found to be installed on your system.\n",
      "If this would cause problems for you,\n",
      "please provide us feedback at https://github.com/pandas-dev/pandas/issues/54466\n",
      "        \n",
      "  import pandas as pd\n"
     ]
    }
   ],
   "source": [
    "import pandas as pd"
   ]
  },
  {
   "cell_type": "code",
   "execution_count": 9,
   "id": "636765af-1068-4345-b9db-391da0794cc2",
   "metadata": {},
   "outputs": [
    {
     "name": "stdout",
     "output_type": "stream",
     "text": [
      "Index(['work_year', 'experience_level', 'employment_type', 'job_title',\n",
      "       'salary', 'salary_currency', 'salary_in_usd', 'employee_residence',\n",
      "       'remote_ratio', 'company_location', 'company_size'],\n",
      "      dtype='object')\n",
      "   work_year experience_level employment_type                 job_title  \\\n",
      "0       2023               SE              FT  Principal Data Scientist   \n",
      "1       2023               MI              CT               ML Engineer   \n",
      "2       2023               MI              CT               ML Engineer   \n",
      "3       2023               SE              FT            Data Scientist   \n",
      "4       2023               SE              FT            Data Scientist   \n",
      "5       2023               SE              FT         Applied Scientist   \n",
      "6       2023               SE              FT         Applied Scientist   \n",
      "7       2023               SE              FT            Data Scientist   \n",
      "8       2023               SE              FT            Data Scientist   \n",
      "9       2023               SE              FT            Data Scientist   \n",
      "\n",
      "   salary salary_currency  salary_in_usd employee_residence  remote_ratio  \\\n",
      "0   80000             EUR          85847                 ES           100   \n",
      "1   30000             USD          30000                 US           100   \n",
      "2   25500             USD          25500                 US           100   \n",
      "3  175000             USD         175000                 CA           100   \n",
      "4  120000             USD         120000                 CA           100   \n",
      "5  222200             USD         222200                 US             0   \n",
      "6  136000             USD         136000                 US             0   \n",
      "7  219000             USD         219000                 CA             0   \n",
      "8  141000             USD         141000                 CA             0   \n",
      "9  147100             USD         147100                 US             0   \n",
      "\n",
      "  company_location company_size  \n",
      "0               ES            L  \n",
      "1               US            S  \n",
      "2               US            S  \n",
      "3               CA            M  \n",
      "4               CA            M  \n",
      "5               US            L  \n",
      "6               US            L  \n",
      "7               CA            M  \n",
      "8               CA            M  \n",
      "9               US            M  \n",
      "<class 'pandas.core.frame.DataFrame'>\n",
      "RangeIndex: 3755 entries, 0 to 3754\n",
      "Data columns (total 11 columns):\n",
      " #   Column              Non-Null Count  Dtype \n",
      "---  ------              --------------  ----- \n",
      " 0   work_year           3755 non-null   int64 \n",
      " 1   experience_level    3755 non-null   object\n",
      " 2   employment_type     3755 non-null   object\n",
      " 3   job_title           3755 non-null   object\n",
      " 4   salary              3755 non-null   int64 \n",
      " 5   salary_currency     3755 non-null   object\n",
      " 6   salary_in_usd       3755 non-null   int64 \n",
      " 7   employee_residence  3755 non-null   object\n",
      " 8   remote_ratio        3755 non-null   int64 \n",
      " 9   company_location    3755 non-null   object\n",
      " 10  company_size        3755 non-null   object\n",
      "dtypes: int64(4), object(7)\n",
      "memory usage: 322.8+ KB\n",
      "None\n",
      "         work_year        salary  salary_in_usd  remote_ratio\n",
      "count  3755.000000  3.755000e+03    3755.000000   3755.000000\n",
      "mean   2022.373635  1.906956e+05  137570.389880     46.271638\n",
      "std       0.691448  6.716765e+05   63055.625278     48.589050\n",
      "min    2020.000000  6.000000e+03    5132.000000      0.000000\n",
      "25%    2022.000000  1.000000e+05   95000.000000      0.000000\n",
      "50%    2022.000000  1.380000e+05  135000.000000      0.000000\n",
      "75%    2023.000000  1.800000e+05  175000.000000    100.000000\n",
      "max    2023.000000  3.040000e+07  450000.000000    100.000000\n"
     ]
    }
   ],
   "source": [
    "# Replace 'your_file_path.csv' with the actual path to your CSV file\n",
    "file_path = 'ds_salaries.csv'\n",
    "\n",
    "# Read the CSV file into a pandas dataframe\n",
    "df = pd.read_csv(file_path)\n",
    "print(df.keys())\n",
    "print(df.head(n=10))\n",
    "print(df.info())\n",
    "print(df.describe())"
   ]
  },
  {
   "cell_type": "markdown",
   "id": "c28d7a29-4d30-4549-9a49-2e62515cd8ca",
   "metadata": {},
   "source": [
    "### Interesting facts"
   ]
  },
  {
   "cell_type": "markdown",
   "id": "27c83cfc-b1b1-4890-a726-bf9cc62101a9",
   "metadata": {},
   "source": [
    "### Features like to predict"
   ]
  },
  {
   "cell_type": "code",
   "execution_count": 12,
   "id": "5114008b-1e87-4527-badc-1f19ce7c72f9",
   "metadata": {},
   "outputs": [
    {
     "data": {
      "text/plain": [
       "1171"
      ]
     },
     "execution_count": 12,
     "metadata": {},
     "output_type": "execute_result"
    }
   ],
   "source": [
    "#Looking for null values in data\n",
    "df.isnull().sum()"
   ]
  },
  {
   "cell_type": "code",
   "execution_count": 14,
   "id": "f30be9ed-84cc-4f50-a50b-e11494fb1614",
   "metadata": {},
   "outputs": [
    {
     "data": {
      "text/plain": [
       "1171"
      ]
     },
     "execution_count": 14,
     "metadata": {},
     "output_type": "execute_result"
    }
   ],
   "source": [
    "#looking for duplicate data\n",
    "df.duplicated().sum()"
   ]
  },
  {
   "cell_type": "code",
   "execution_count": 15,
   "id": "14c4a221-f1bb-49d6-91fe-8517393ca4c8",
   "metadata": {},
   "outputs": [
    {
     "name": "stdout",
     "output_type": "stream",
     "text": [
      "<class 'pandas.core.frame.DataFrame'>\n",
      "Index: 2584 entries, 0 to 3754\n",
      "Data columns (total 11 columns):\n",
      " #   Column              Non-Null Count  Dtype \n",
      "---  ------              --------------  ----- \n",
      " 0   work_year           2584 non-null   int64 \n",
      " 1   experience_level    2584 non-null   object\n",
      " 2   employment_type     2584 non-null   object\n",
      " 3   job_title           2584 non-null   object\n",
      " 4   salary              2584 non-null   int64 \n",
      " 5   salary_currency     2584 non-null   object\n",
      " 6   salary_in_usd       2584 non-null   int64 \n",
      " 7   employee_residence  2584 non-null   object\n",
      " 8   remote_ratio        2584 non-null   int64 \n",
      " 9   company_location    2584 non-null   object\n",
      " 10  company_size        2584 non-null   object\n",
      "dtypes: int64(4), object(7)\n",
      "memory usage: 242.2+ KB\n",
      "None\n"
     ]
    }
   ],
   "source": [
    "#cleaning duplicate data\n",
    "uniqueData = df.drop_duplicates()\n",
    "print(uniqueData.info())"
   ]
  },
  {
   "cell_type": "code",
   "execution_count": 16,
   "id": "806c2b83-b987-42eb-b7b4-ec40c58eed18",
   "metadata": {},
   "outputs": [
    {
     "name": "stdout",
     "output_type": "stream",
     "text": [
      "2067 517\n",
      "      work_year experience_level employment_type                   job_title  \\\n",
      "3418       2022               MI              FT  Machine Learning Developer   \n",
      "2396       2022               SE              FT              Data Scientist   \n",
      "975        2023               SE              FT                Data Analyst   \n",
      "3420       2022               EX              FT    Director of Data Science   \n",
      "3607       2020               MI              FT         Lead Data Scientist   \n",
      "\n",
      "      salary salary_currency  salary_in_usd employee_residence  remote_ratio  \\\n",
      "3418  100000             CAD          76814                 CA           100   \n",
      "2396  177500             USD         177500                 US           100   \n",
      "975   175000             USD         175000                 US           100   \n",
      "3420  250000             CAD         192037                 CA            50   \n",
      "3607  115000             USD         115000                 AE             0   \n",
      "\n",
      "     company_location company_size  \n",
      "3418               CA            M  \n",
      "2396               US            M  \n",
      "975                US            M  \n",
      "3420               CA            L  \n",
      "3607               AE            L  \n",
      "      work_year experience_level employment_type                 job_title  \\\n",
      "2706       2022               SE              FT             Data Engineer   \n",
      "1941       2022               SE              FT             Data Engineer   \n",
      "3483       2022               SE              FT  Principal Data Scientist   \n",
      "532        2023               SE              FT             Data Engineer   \n",
      "2950       2022               SE              FT             Data Engineer   \n",
      "\n",
      "      salary salary_currency  salary_in_usd employee_residence  remote_ratio  \\\n",
      "2706  160000             USD         160000                 US           100   \n",
      "1941   35000             EUR          36773                 ES             0   \n",
      "3483  148000             EUR         155499                 DE           100   \n",
      "532   165000             USD         165000                 US           100   \n",
      "2950   90000             USD          90000                 US             0   \n",
      "\n",
      "     company_location company_size  \n",
      "2706               US            M  \n",
      "1941               ES            M  \n",
      "3483               DE            M  \n",
      "532                US            M  \n",
      "2950               US            M  \n"
     ]
    }
   ],
   "source": [
    "from sklearn.model_selection import train_test_split\n",
    "\n",
    "train_set, test_set = train_test_split(uniqueData, test_size=0.2, random_state=123)\n",
    "print(len(train_set), len(test_set))\n",
    "print(\"Train Set:\",train_set.head())\n",
    "print(\"Test Set: \",test_set.head())"
   ]
  },
  {
   "cell_type": "code",
   "execution_count": null,
   "id": "7e6cdf0e-a166-44ac-9567-4af35bd27dce",
   "metadata": {},
   "outputs": [],
   "source": []
  }
 ],
 "metadata": {
  "kernelspec": {
   "display_name": "Python 3 (ipykernel)",
   "language": "python",
   "name": "python3"
  },
  "language_info": {
   "codemirror_mode": {
    "name": "ipython",
    "version": 3
   },
   "file_extension": ".py",
   "mimetype": "text/x-python",
   "name": "python",
   "nbconvert_exporter": "python",
   "pygments_lexer": "ipython3",
   "version": "3.11.0"
  }
 },
 "nbformat": 4,
 "nbformat_minor": 5
}
