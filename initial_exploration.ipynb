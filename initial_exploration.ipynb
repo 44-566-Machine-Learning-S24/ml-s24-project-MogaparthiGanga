{
 "cells": [
  {
   "cell_type": "code",
   "execution_count": 1,
   "id": "9c405acc-0906-405c-b718-e42836f015d2",
   "metadata": {},
   "outputs": [
    {
     "name": "stderr",
     "output_type": "stream",
     "text": [
      "C:\\Users\\S559487\\AppData\\Local\\Temp\\ipykernel_10668\\2446810166.py:2: DeprecationWarning: \n",
      "Pyarrow will become a required dependency of pandas in the next major release of pandas (pandas 3.0),\n",
      "(to allow more performant data types, such as the Arrow string type, and better interoperability with other libraries)\n",
      "but was not found to be installed on your system.\n",
      "If this would cause problems for you,\n",
      "please provide us feedback at https://github.com/pandas-dev/pandas/issues/54466\n",
      "        \n",
      "  import pandas as pd\n"
     ]
    }
   ],
   "source": [
    "# pull in the dataset and look at it\n",
    "import pandas as pd"
   ]
  },
  {
   "cell_type": "code",
   "execution_count": 2,
   "id": "084dc910-0291-4c9e-8d34-77709763b0c4",
   "metadata": {},
   "outputs": [
    {
     "name": "stdout",
     "output_type": "stream",
     "text": [
      "        Prev Close         Open         High          Low         Last  \\\n",
      "count  3322.000000  3322.000000  3322.000000  3322.000000  3322.000000   \n",
      "mean    344.114314   344.763019   351.608007   337.531969   344.239539   \n",
      "std     192.936882   193.619992   198.617808   188.676614   193.187813   \n",
      "min     108.000000   108.000000   110.450000   105.650000   108.000000   \n",
      "25%     164.312500   164.850000   168.000000   161.600000   164.075000   \n",
      "50%     324.700000   325.750000   331.275000   319.850000   325.000000   \n",
      "75%     400.912500   401.000000   407.187500   395.000000   400.912500   \n",
      "max    1307.450000  1310.250000  1324.000000  1270.000000  1308.000000   \n",
      "\n",
      "             Close         VWAP        Volume      Turnover        Trades  \\\n",
      "count  3322.000000  3322.000000  3.322000e+03  3.322000e+03  2.456000e+03   \n",
      "mean    344.201626   344.853182  2.954564e+06  1.070144e+14  4.492259e+04   \n",
      "std     193.045886   193.841305  4.104227e+06  2.625564e+14  5.023124e+04   \n",
      "min     108.000000   108.340000  1.236600e+04  2.415857e+11  3.660000e+02   \n",
      "25%     164.312500   164.855000  7.493682e+05  1.817650e+13  2.083200e+04   \n",
      "50%     324.700000   325.765000  2.007292e+06  5.836041e+13  3.588150e+04   \n",
      "75%     400.912500   400.607500  3.636883e+06  1.158526e+14  5.336875e+04   \n",
      "max    1307.450000  1302.150000  9.771788e+07  8.160988e+15  1.205984e+06   \n",
      "\n",
      "       Deliverable Volume  %Deliverble  \n",
      "count        3.322000e+03  3322.000000  \n",
      "mean         1.207441e+06     0.445899  \n",
      "std          1.398640e+06     0.160496  \n",
      "min          5.383000e+03     0.067000  \n",
      "25%          3.212005e+05     0.332900  \n",
      "50%          8.132775e+05     0.445650  \n",
      "75%          1.605528e+06     0.555850  \n",
      "max          2.241652e+07     0.979800  \n"
     ]
    }
   ],
   "source": [
    "file_path = 'ADANIPORTS.csv'\n",
    "df = pd.read_csv(file_path)\n",
    "# print(df.keys())\n",
    "# print(df.head())\n",
    "# print(df.info())\n",
    "print(df.describe())"
   ]
  },
  {
   "cell_type": "markdown",
   "id": "179897e2-ce54-464a-8b76-fb4c68bdb85d",
   "metadata": {},
   "source": [
    "#### Did you discover interesting relations?\n",
    "My dataset has 2 types of symbols. Yes, I would like to predict the 'Close' value, based on 'Open' value or 'Prev Close' value or 'VWAP'.\n",
    "\n",
    "#### Info regarding Dataset Features\n",
    "\n",
    "* Date - Trade Data\n",
    "* Symbol - stock name \n",
    "* Series - Type of security \n",
    "* Prev Close - Previous data closing price\n",
    "* Open - Opening price for the day\n",
    "* High - Highest price for the day\n",
    "* Low - Lowest price for the day\n",
    "* Last - Last trade price\n",
    "* Closes - Closing price\n",
    "* VWAP - Volume-weighted average price (a ratio of the cumulative share price to the cumulative volume traded over a given time period)\n",
    "* Volume - volume trades for the day\n",
    "* Turnover - The turnover ratio is the ratio of sellers to buyers of a stock\n",
    "* Trades - Number of Trades\n",
    "* Deliverable Volume - Amount of deliverable volume\n",
    "* %Deliverble - Percentage of shares that were delivereddige o shares that were delivered\r\n",
    "\r\n",
    "Note: All price are in Rupees"
   ]
  },
  {
   "cell_type": "markdown",
   "id": "f27ab554-16d5-4a1a-ba25-a95eacd6065b",
   "metadata": {},
   "source": [
    "#### What feature/s would you like to be able to predict?\n",
    "I would like to predict if 'Close' and 'VWAP' values high if 'Open' value is high."
   ]
  },
  {
   "cell_type": "code",
   "execution_count": 3,
   "id": "374636f5-d735-49fe-ac59-feb08d6675cd",
   "metadata": {},
   "outputs": [
    {
     "name": "stdout",
     "output_type": "stream",
     "text": [
      "<class 'pandas.core.frame.DataFrame'>\n",
      "RangeIndex: 3322 entries, 0 to 3321\n",
      "Data columns (total 15 columns):\n",
      " #   Column              Non-Null Count  Dtype  \n",
      "---  ------              --------------  -----  \n",
      " 0   Date                3322 non-null   object \n",
      " 1   Symbol              3322 non-null   object \n",
      " 2   Series              3322 non-null   object \n",
      " 3   Prev Close          3322 non-null   float64\n",
      " 4   Open                3322 non-null   float64\n",
      " 5   High                3322 non-null   float64\n",
      " 6   Low                 3322 non-null   float64\n",
      " 7   Last                3322 non-null   float64\n",
      " 8   Close               3322 non-null   float64\n",
      " 9   VWAP                3322 non-null   float64\n",
      " 10  Volume              3322 non-null   int64  \n",
      " 11  Turnover            3322 non-null   float64\n",
      " 12  Trades              2456 non-null   float64\n",
      " 13  Deliverable Volume  3322 non-null   int64  \n",
      " 14  %Deliverble         3322 non-null   float64\n",
      "dtypes: float64(10), int64(2), object(3)\n",
      "memory usage: 389.4+ KB\n",
      "None\n"
     ]
    },
    {
     "data": {
      "text/plain": [
       "Date                  0\n",
       "Symbol                0\n",
       "Series                0\n",
       "Prev Close            0\n",
       "Open                  0\n",
       "High                  0\n",
       "Low                   0\n",
       "Last                  0\n",
       "Close                 0\n",
       "VWAP                  0\n",
       "Volume                0\n",
       "Turnover              0\n",
       "Trades                0\n",
       "Deliverable Volume    0\n",
       "%Deliverble           0\n",
       "dtype: int64"
      ]
     },
     "execution_count": 3,
     "metadata": {},
     "output_type": "execute_result"
    }
   ],
   "source": [
    "# Clean the data\n",
    "print(df.info())\n",
    "df.isnull().sum()\n",
    "df['Trades'] = df['Trades'].fillna(0)\n",
    "df.isnull().sum()"
   ]
  },
  {
   "cell_type": "code",
   "execution_count": 5,
   "id": "5e3414d6-17c1-4bcf-a76d-9c272e3a2dbc",
   "metadata": {},
   "outputs": [
    {
     "name": "stdout",
     "output_type": "stream",
     "text": [
      "2491 831\n",
      "            Date      Symbol Series  Prev Close   Open   High    Low   Last  \\\n",
      "285   2009-01-27  MUNDRAPORT     EQ      363.90  370.0  380.0  368.0  378.0   \n",
      "1716  2014-11-03  ADANIPORTS     EQ      285.65  287.4  293.5  283.5  292.7   \n",
      "\n",
      "      Close    VWAP   Volume      Turnover   Trades  Deliverable Volume  \\\n",
      "285   375.7  374.85   133817  5.016135e+12      0.0               56698   \n",
      "1716  291.5  289.42  2314825  6.699603e+13  19923.0             1174257   \n",
      "\n",
      "      %Deliverble  \n",
      "285        0.4237  \n",
      "1716       0.5073  \n",
      "            Date      Symbol Series  Prev Close   Open    High     Low  \\\n",
      "2312  2017-03-31  ADANIPORTS     EQ       339.3  342.0  342.70  336.00   \n",
      "926   2011-08-25  MUNDRAPORT     EQ       146.8  147.2  149.65  138.75   \n",
      "\n",
      "        Last  Close    VWAP   Volume      Turnover   Trades  \\\n",
      "2312  340.90  339.6  339.02  3417463  1.158582e+14  38884.0   \n",
      "926   140.75  140.4  143.68  1793336  2.576610e+13  14070.0   \n",
      "\n",
      "      Deliverable Volume  %Deliverble  \n",
      "2312             1243233       0.3638  \n",
      "926              1035991       0.5777  \n"
     ]
    }
   ],
   "source": [
    "# Create training/test sets\n",
    "from sklearn.model_selection import train_test_split\n",
    "train_set, test_set = train_test_split(df, test_size=0.25, random_state=1)\n",
    "print(len(train_set), len(test_set))\n",
    "print(train_set.head(2))\n",
    "print(test_set.head(2))"
   ]
  },
  {
   "cell_type": "code",
   "execution_count": 10,
   "id": "dc04de19-6757-416b-b154-c3e60980d246",
   "metadata": {},
   "outputs": [
    {
     "name": "stdout",
     "output_type": "stream",
     "text": [
      "2657 665\n",
      "            Date      Symbol Series  Prev Close   Open   High    Low   Last  \\\n",
      "2819  2019-04-18  ADANIPORTS     EQ      395.65  395.0  395.5  388.9  389.5   \n",
      "286   2009-01-28  MUNDRAPORT     EQ      375.70  381.0  396.7  378.0  395.1   \n",
      "\n",
      "       Close    VWAP   Volume      Turnover   Trades  Deliverable Volume  \\\n",
      "2819  390.55  391.45  3218018  1.259706e+14  33517.0             1877842   \n",
      "286   394.55  388.13   213076  8.270145e+12      0.0               78324   \n",
      "\n",
      "      %Deliverble  \n",
      "2819       0.5835  \n",
      "286        0.3676  \n",
      "            Date      Symbol Series  Prev Close   Open   High    Low   Last  \\\n",
      "1612  2014-05-29  ADANIPORTS     EQ       220.4  220.0  221.1  211.1  212.0   \n",
      "659   2010-08-04  MUNDRAPORT     EQ       743.8  748.9  764.0  747.0  752.0   \n",
      "\n",
      "       Close    VWAP   Volume      Turnover   Trades  Deliverable Volume  \\\n",
      "1612  211.90  215.06  3058419  6.577418e+13  39379.0             1440587   \n",
      "659   754.35  756.33   518094  3.918526e+13      0.0               99907   \n",
      "\n",
      "      %Deliverble  \n",
      "1612       0.4710  \n",
      "659        0.1928  \n"
     ]
    }
   ],
   "source": [
    "from sklearn.model_selection import StratifiedShuffleSplit \n",
    "splitter = StratifiedShuffleSplit(n_splits = 1, test_size=0.2, random_state=123)\n",
    "for train_indices, test_indices in splitter.split(df, df[\"Symbol\"]): \n",
    "#the body only executes once because the number of splits (folds) is one\n",
    "    train_set = df.iloc[train_indices] \n",
    "    test_set = df.iloc[test_indices]\n",
    "print(len(train_set), len(test_set))\n",
    "print(train_set.head(2))\n",
    "print(test_set.head(2))"
   ]
  },
  {
   "cell_type": "code",
   "execution_count": 109,
   "id": "50e57bd1-c1bd-49d7-bfe0-ab1960bb7017",
   "metadata": {},
   "outputs": [
    {
     "data": {
      "image/png": "[encoded data removed]",
      "text/plain": [
       "<Figure size 640x480 with 1 Axes>"
      ]
     },
     "metadata": {},
     "output_type": "display_data"
    }
   ],
   "source": [
    "import matplotlib.pyplot as plt\n",
    "plt.scatter(df[\"Open\"], df[\"VWAP\"])\n",
    "plt.xlabel(\"Height (cm)\")\n",
    "plt.ylabel(\"Weight (kg)\")\n",
    "plt.show()"
   ]
  },
  {
   "cell_type": "code",
   "execution_count": null,
   "id": "00872e52-0bb7-4b27-b4df-213204dfa4e6",
   "metadata": {},
   "outputs": [],
   "source": []
  }
 ],
 "metadata": {
  "kernelspec": {
   "display_name": "Python 3 (ipykernel)",
   "language": "python",
   "name": "python3"
  },
  "language_info": {
   "codemirror_mode": {
    "name": "ipython",
    "version": 3
   },
   "file_extension": ".py",
   "mimetype": "text/x-python",
   "name": "python",
   "nbconvert_exporter": "python",
   "pygments_lexer": "ipython3",
   "version": "3.11.0"
  }
 },
 "nbformat": 4,
 "nbformat_minor": 5
}
