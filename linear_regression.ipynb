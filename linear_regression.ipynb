{
 "cells": [
  {
   "cell_type": "code",
   "execution_count": 1,
   "id": "a35a1e12-af09-4dd8-a3c1-780411011f4a",
   "metadata": {},
   "outputs": [
    {
     "name": "stderr",
     "output_type": "stream",
     "text": [
      "C:\\Users\\S559487\\AppData\\Local\\Temp\\ipykernel_18364\\1365640796.py:2: DeprecationWarning: \n",
      "Pyarrow will become a required dependency of pandas in the next major release of pandas (pandas 3.0),\n",
      "(to allow more performant data types, such as the Arrow string type, and better interoperability with other libraries)\n",
      "but was not found to be installed on your system.\n",
      "If this would cause problems for you,\n",
      "please provide us feedback at https://github.com/pandas-dev/pandas/issues/54466\n",
      "        \n",
      "  import pandas as pd\n"
     ]
    }
   ],
   "source": [
    "# Initial data prep section.  Read, clean and create sets.\n",
    "import pandas as pd"
   ]
  },
  {
   "cell_type": "code",
   "execution_count": 4,
   "id": "2daa433f-771f-4176-b204-3111a918fb09",
   "metadata": {},
   "outputs": [
    {
     "data": {
      "text/plain": [
       "Date                  0\n",
       "Symbol                0\n",
       "Series                0\n",
       "Prev Close            0\n",
       "Open                  0\n",
       "High                  0\n",
       "Low                   0\n",
       "Last                  0\n",
       "Close                 0\n",
       "VWAP                  0\n",
       "Volume                0\n",
       "Turnover              0\n",
       "Trades                0\n",
       "Deliverable Volume    0\n",
       "%Deliverble           0\n",
       "dtype: int64"
      ]
     },
     "execution_count": 4,
     "metadata": {},
     "output_type": "execute_result"
    }
   ],
   "source": [
    "file_path = 'ADANIPORTS.csv'\n",
    "df = pd.read_csv(file_path)\n",
    "print(df.info())\n",
    "df.isnull().sum()\n",
    "df['Trades'] = df['Trades'].fillna(0)\n",
    "df.isnull().sum()"
   ]
  },
  {
   "cell_type": "code",
   "execution_count": 5,
   "id": "9428e043-a307-409b-88f2-000d6109c3ef",
   "metadata": {},
   "outputs": [
    {
     "name": "stdout",
     "output_type": "stream",
     "text": [
      "2491 831\n",
      "            Date      Symbol Series  Prev Close   Open   High    Low   Last  \\\n",
      "285   2009-01-27  MUNDRAPORT     EQ      363.90  370.0  380.0  368.0  378.0   \n",
      "1716  2014-11-03  ADANIPORTS     EQ      285.65  287.4  293.5  283.5  292.7   \n",
      "\n",
      "      Close    VWAP   Volume      Turnover   Trades  Deliverable Volume  \\\n",
      "285   375.7  374.85   133817  5.016135e+12      0.0               56698   \n",
      "1716  291.5  289.42  2314825  6.699603e+13  19923.0             1174257   \n",
      "\n",
      "      %Deliverble  \n",
      "285        0.4237  \n",
      "1716       0.5073  \n",
      "            Date      Symbol Series  Prev Close   Open    High     Low  \\\n",
      "2312  2017-03-31  ADANIPORTS     EQ       339.3  342.0  342.70  336.00   \n",
      "926   2011-08-25  MUNDRAPORT     EQ       146.8  147.2  149.65  138.75   \n",
      "\n",
      "        Last  Close    VWAP   Volume      Turnover   Trades  \\\n",
      "2312  340.90  339.6  339.02  3417463  1.158582e+14  38884.0   \n",
      "926   140.75  140.4  143.68  1793336  2.576610e+13  14070.0   \n",
      "\n",
      "      Deliverable Volume  %Deliverble  \n",
      "2312             1243233       0.3638  \n",
      "926              1035991       0.5777  \n"
     ]
    }
   ],
   "source": [
    "# Create training/test sets\n",
    "from sklearn.model_selection import train_test_split\n",
    "train_set, test_set = train_test_split(df, test_size=0.25, random_state=1)\n",
    "print(len(train_set), len(test_set))\n",
    "print(train_set.head(2))\n",
    "print(test_set.head(2))"
   ]
  },
  {
   "cell_type": "code",
   "execution_count": null,
   "id": "78aa878a-134f-48af-85f8-76c68c1a05a4",
   "metadata": {},
   "outputs": [],
   "source": []
  }
 ],
 "metadata": {
  "kernelspec": {
   "display_name": "Python 3 (ipykernel)",
   "language": "python",
   "name": "python3"
  },
  "language_info": {
   "codemirror_mode": {
    "name": "ipython",
    "version": 3
   },
   "file_extension": ".py",
   "mimetype": "text/x-python",
   "name": "python",
   "nbconvert_exporter": "python",
   "pygments_lexer": "ipython3",
   "version": "3.11.0"
  }
 },
 "nbformat": 4,
 "nbformat_minor": 5
}
